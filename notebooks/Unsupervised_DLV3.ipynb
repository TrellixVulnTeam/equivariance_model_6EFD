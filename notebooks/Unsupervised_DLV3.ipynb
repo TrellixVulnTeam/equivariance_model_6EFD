{
 "cells": [
  {
   "cell_type": "markdown",
   "metadata": {
    "colab_type": "text",
    "id": "EZbrYjvKvkaH"
   },
   "source": [
    "# Autosupervised learning for semantic segmentation using Equivariance propreties"
   ]
  },
  {
   "cell_type": "code",
   "execution_count": 9,
   "metadata": {
    "colab": {},
    "colab_type": "code",
    "id": "KX2t25zgvkaf"
   },
   "outputs": [],
   "source": [
    "%matplotlib inline\n",
    "import argparse\n",
    "import os\n",
    "import random\n",
    "import torch\n",
    "import torch.nn as nn\n",
    "import torch.nn.parallel\n",
    "import torch.nn.functional as F\n",
    "import torch.backends.cudnn as cudnn\n",
    "import torch.optim as optim\n",
    "import torchvision\n",
    "from torchvision import models\n",
    "import torch.utils.data\n",
    "import torchvision.datasets as dset\n",
    "import torchvision.transforms as transforms\n",
    "import torchvision.transforms.functional as TF\n",
    "import torchvision.utils as vutils\n",
    "from torch.utils.tensorboard import SummaryWriter\n",
    "from torch.utils.data import DataLoader, Dataset\n",
    "from torch.utils.data.dataset import random_split\n",
    "import numpy as np\n",
    "import matplotlib.pyplot as plt\n",
    "import matplotlib.animation as animation\n",
    "from IPython.display import HTML\n",
    "from tqdm import tqdm\n",
    "from PIL import Image\n",
    "from collections import Counter\n",
    "from sklearn.metrics import jaccard_score\n",
    "import pickle\n",
    "from metric import *\n",
    "from utils import * \n",
    "from scipy.ndimage.interpolation import rotate as scipy_rotate"
   ]
  },
  {
   "cell_type": "markdown",
   "metadata": {
    "colab_type": "text",
    "id": "Aw2xTNEkvka0"
   },
   "source": [
    "\n",
    "\n",
    "\n",
    "## Dataset : Pascal VOC 2012"
   ]
  },
  {
   "cell_type": "code",
   "execution_count": 10,
   "metadata": {
    "colab": {},
    "colab_type": "code",
    "id": "IzkSq_mgrcLR"
   },
   "outputs": [],
   "source": [
    "dataroot = '/data/voc2012'\n",
    "SAVE_DIR = '/data/model'\n"
   ]
  },
  {
   "cell_type": "code",
   "execution_count": 11,
   "metadata": {
    "colab": {},
    "colab_type": "code",
    "id": "sB8mbIvdlRUW"
   },
   "outputs": [],
   "source": [
    "def change_type_input(img):\n",
    "  return img.float()\n",
    "\n",
    "def to_tensor_target(img):\n",
    "  img = np.array(img)\n",
    "  # border\n",
    "  img[img==255] = 0 # border = background \n",
    "  return torch.LongTensor(img)\n",
    "\n",
    "def padding(img,pad=(6,9)):\n",
    "    return transforms.functional.pad(img, pad, fill=0, padding_mode='constant')\n",
    "\n",
    "size = (513,513)\n",
    "MEAN = [0.485, 0.456, 0.406]\n",
    "STD = [0.229, 0.224, 0.225]\n",
    "transform_input = transforms.Compose([\n",
    "                                   #transforms.Lambda(padding),\n",
    "                                   transforms.Resize(size),\n",
    "                                   transforms.ToTensor(),\n",
    "                                   transforms.Normalize(mean=[0.485, 0.456, 0.406], std=[0.229, 0.224, 0.225]),\n",
    "                                    ])\n",
    "\n",
    "transform_mask = transforms.Compose([\n",
    "                                   #transforms.Lambda(padding),\n",
    "                                   transforms.Resize(size),\n",
    "                                   transforms.Lambda(to_tensor_target)\n",
    "                                   ])\n"
   ]
  },
  {
   "cell_type": "code",
   "execution_count": 12,
   "metadata": {
    "colab": {
     "base_uri": "https://localhost:8080/",
     "height": 52
    },
    "colab_type": "code",
    "id": "AAj55UZxOZte",
    "outputId": "9257ab6a-d935-4c69-ddf6-ea40effa907a"
   },
   "outputs": [
    {
     "name": "stdout",
     "output_type": "stream",
     "text": [
      "Using downloaded and verified file: /data/voc2012/VOCtrainval_11-May-2012.tar\n",
      "Using downloaded and verified file: /data/voc2012/VOCtrainval_11-May-2012.tar\n"
     ]
    }
   ],
   "source": [
    "train_dataset = dset.VOCSegmentation(dataroot,year='2012', image_set='train', download=True,\n",
    "                                     transform= transform_input,\n",
    "                                     target_transform= transform_mask)\n",
    "\n",
    "val_dataset = dset.VOCSegmentation(dataroot,year='2012', image_set='val', download=True,\n",
    "                                     transform= transform_input,\n",
    "                                     target_transform= transform_mask)"
   ]
  },
  {
   "cell_type": "markdown",
   "metadata": {},
   "source": [
    "### Split dataset into a labeled dataset and a unlabeled dataset"
   ]
  },
  {
   "cell_type": "code",
   "execution_count": 13,
   "metadata": {},
   "outputs": [],
   "source": [
    "class Split_Dataset(Dataset):\n",
    "    def __init__(self, subset, transform=None):\n",
    "        self.subset = subset\n",
    "        self.transform = transform\n",
    "        \n",
    "    def __getitem__(self, index):\n",
    "        x, y = self.subset[index]\n",
    "        if self.transform:\n",
    "            x = self.transform(x)\n",
    "        return x, y\n",
    "        \n",
    "    def __len__(self):\n",
    "        return len(self.subset)\n",
    "\n",
    "    \n",
    "percent = 0.3\n",
    "split = int(len(train_dataset)*percent)\n",
    "lengths = [split,len(train_dataset)-split]\n",
    "labeled, unlabeled = random_split(train_dataset, lengths)\n",
    "train_full_supervised = Split_Dataset(\n",
    "    labeled)\n",
    "\n",
    "train_unsupervised = Split_Dataset(\n",
    "    unlabeled)\n"
   ]
  },
  {
   "cell_type": "markdown",
   "metadata": {},
   "source": [
    "### Plot VOC image and mask"
   ]
  },
  {
   "cell_type": "code",
   "execution_count": 14,
   "metadata": {},
   "outputs": [],
   "source": [
    "\"\"\"Pascal VOC Dataset Segmentation Dataloader\"\"\"\n",
    "\n",
    "\n",
    "VOC_CLASSES = ('background',  # always index 0\n",
    "               'aeroplane', 'bicycle', 'bird', 'boat',\n",
    "               'bottle', 'bus', 'car', 'cat', 'chair',\n",
    "               'cow', 'diningtable', 'dog', 'horse',\n",
    "               'motorbike', 'person', 'pottedplant',\n",
    "               'sheep', 'sofa', 'train', 'tvmonitor')\n",
    "\n",
    "NUM_CLASSES = len(VOC_CLASSES) + 1\n",
    "\n",
    "\n"
   ]
  },
  {
   "cell_type": "code",
   "execution_count": 15,
   "metadata": {
    "colab": {
     "base_uri": "https://localhost:8080/",
     "height": 235
    },
    "colab_type": "code",
    "id": "2LNgEyo8bKFW",
    "outputId": "eef079f3-1da8-4dea-c58b-b9d89fb75aef"
   },
   "outputs": [
    {
     "name": "stderr",
     "output_type": "stream",
     "text": [
      "Clipping input data to the valid range for imshow with RGB data ([0..1] for floats or [0..255] for integers).\n"
     ]
    },
    {
     "name": "stdout",
     "output_type": "stream",
     "text": [
      "<class 'torch.Tensor'>\n",
      "torch.Size([3, 513, 513])\n",
      "torch.Size([513, 513, 3])\n"
     ]
    },
    {
     "data": {
      "image/png": "[encoded data removed]",
      "text/plain": [
       "<Figure size 432x288 with 2 Axes>"
      ]
     },
     "metadata": {
      "needs_background": "light"
     },
     "output_type": "display_data"
    },
    {
     "data": {
      "text/plain": [
       "torch.Size([513, 513])"
      ]
     },
     "execution_count": 15,
     "metadata": {},
     "output_type": "execute_result"
    }
   ],
   "source": [
    "sample = train_dataset.__getitem__(0)\n",
    "image, mask = sample[0], sample[1]\n",
    "print(type(image))\n",
    "print(image.size())\n",
    "image.transpose_(0, 2)\n",
    "image.transpose_(0, 1)\n",
    "print(image.size())\n",
    "\n",
    "fig = plt.figure()\n",
    "\n",
    "a = fig.add_subplot(1,2,1)\n",
    "plt.imshow(image)    #.transpose(0,1)\n",
    "\n",
    "a = fig.add_subplot(1,2,2)\n",
    "plt.imshow(mask)\n",
    "\n",
    "plt.show()\n",
    "mask.size()\n"
   ]
  },
  {
   "cell_type": "markdown",
   "metadata": {},
   "source": [
    "### Dataloaders"
   ]
  },
  {
   "cell_type": "code",
   "execution_count": 16,
   "metadata": {
    "colab": {
     "base_uri": "https://localhost:8080/",
     "height": 34
    },
    "colab_type": "code",
    "id": "LUqeDj5hvka3",
    "outputId": "92a782a5-3bc5-48f5-b57a-af5993c9c201"
   },
   "outputs": [
    {
     "name": "stdout",
     "output_type": "stream",
     "text": [
      "device : cuda:0\n"
     ]
    }
   ],
   "source": [
    "\n",
    "# Set batch_size\n",
    "batch_size = 2\n",
    "\n",
    "dataloader_train_supervised = torch.utils.data.DataLoader(train_full_supervised, batch_size=batch_size,drop_last=True)\n",
    "dataloader_train_unsupervised = torch.utils.data.DataLoader(train_dataset, batch_size=batch_size,drop_last=True)\n",
    "dataloader_val = torch.utils.data.DataLoader(val_dataset, batch_size=batch_size)\n",
    "# Decide which device we want to run on\n",
    "device = torch.device(\"cuda:0\" if torch.cuda.is_available() else \"cpu\")\n",
    "print(\"device :\",device)\n",
    "\n"
   ]
  },
  {
   "cell_type": "code",
   "execution_count": 17,
   "metadata": {
    "colab": {
     "base_uri": "https://localhost:8080/",
     "height": 52
    },
    "colab_type": "code",
    "id": "63IQP70Qg8BL",
    "outputId": "e38a98ff-0b99-4e3a-eae4-bdf29ddf3636"
   },
   "outputs": [
    {
     "name": "stdout",
     "output_type": "stream",
     "text": [
      "Length dataset train fully supervised : 439\n",
      "Length dataset train unsupervised : 1464\n",
      "Length dataset val : 1449\n"
     ]
    }
   ],
   "source": [
    "print(\"Length dataset train fully supervised :\",len(train_full_supervised))\n",
    "print(\"Length dataset train unsupervised :\",len(train_dataset))\n",
    "print(\"Length dataset val :\",len(val_dataset))"
   ]
  },
  {
   "cell_type": "markdown",
   "metadata": {
    "colab_type": "text",
    "id": "lJYmOGeshFet"
   },
   "source": [
    "## Test metric code"
   ]
  },
  {
   "cell_type": "code",
   "execution_count": 18,
   "metadata": {
    "colab": {
     "base_uri": "https://localhost:8080/",
     "height": 34
    },
    "colab_type": "code",
    "id": "kETyYQu8hHKx",
    "outputId": "738272db-9c88-4f9c-c047-1aba9e00478d"
   },
   "outputs": [
    {
     "data": {
      "text/plain": [
       "tensor(0.0197)"
      ]
     },
     "execution_count": 18,
     "metadata": {},
     "output_type": "execute_result"
    }
   ],
   "source": [
    "iou(next(iter(dataloader_val))[1],next(iter(dataloader_train_supervised))[1])"
   ]
  },
  {
   "cell_type": "markdown",
   "metadata": {},
   "source": [
    "## Equivarience utils functions"
   ]
  },
  {
   "cell_type": "code",
   "execution_count": 19,
   "metadata": {},
   "outputs": [],
   "source": [
    "# rotate images\n",
    "def rotate_image(image,angle,reshape=False):\n",
    "    \"\"\"\n",
    "        Rotate a tensor with a certain angle.\n",
    "        If true, expands the output image to make it large enough to hold the entire rotated image.\n",
    "        Else it keeps the same size\n",
    "    \"\"\"\n",
    "    #image = image.squeeze()\n",
    "    if len(image.size())==3: # Case of a single image.\n",
    "        axes = ((1,2))\n",
    "    elif len(image.size())==4: # Case of a batch of images\n",
    "        axes = ((2,3))\n",
    "    else:\n",
    "        print(\"Size must be 4 or 5.\")\n",
    "        return \n",
    "    im = scipy_rotate(image.numpy(),angle=angle,reshape=reshape,axes=axes)\n",
    "    im_t = torch.FloatTensor(im)\n",
    "    return (im_t,360-angle)\n",
    "\n",
    "sample = train_dataset.__getitem__(0)\n",
    "image, mask = sample[0], sample[1]\n"
   ]
  },
  {
   "cell_type": "code",
   "execution_count": 20,
   "metadata": {},
   "outputs": [],
   "source": [
    "def rotate_mask(mask,angle,reshape=False):\n",
    "    \"\"\"\n",
    "        This function take a prediction from the model [batch_size,21,513,513] \n",
    "        and rotate, by an angle add as a parameters, the prediction.\n",
    "        To make sure there is no error it is preferable to use new_angle returned by the function 'rotate_image'.\n",
    "    \"\"\"\n",
    "    with torch.no_grad():\n",
    "        if len(mask.size())==3: # Case of a single mask.\n",
    "            axes = ((1,2))\n",
    "        elif len(mask.size())==4: # Case of a batch of masks\n",
    "            axes = ((2,3))\n",
    "        else:\n",
    "            print(\"Size must be 4 or 5.\")\n",
    "            return \n",
    "        m = scipy_rotate(mask.numpy(),angle=angle,reshape=reshape,axes=axes,mode='nearest')\n",
    "        mask_t = torch.FloatTensor(m)\n",
    "        return mask_t\n",
    "\n",
    "    "
   ]
  },
  {
   "cell_type": "markdown",
   "metadata": {},
   "source": [
    "### Apply transformations on a batch of images"
   ]
  },
  {
   "cell_type": "code",
   "execution_count": 21,
   "metadata": {},
   "outputs": [],
   "source": [
    "def compute_transformations_batch(x,model,angle,reshape=False,criterion=nn.KLDivLoss(reduction='mean')):\n",
    "    x = x.to(device)\n",
    "    rot_x,new_angle = rotate_image(x.detach().cpu(),angle=angle,reshape=reshape)\n",
    "    softmax = nn.Softmax(dim=1)\n",
    "    try:\n",
    "        pred_x = model(x.to(device))['out'] # a prediction of the original images.\n",
    "        pred_rot = model(rot_x.to(device))['out'] # a prediction of the rotated images.\n",
    "    except:\n",
    "        pred_x = model(x.to(device))\n",
    "        pred_rot = model(rot_x.to(device))\n",
    "    \n",
    "    pred_droit = rotate_mask(pred_rot.detach().cpu(),new_angle,reshape=reshape)\n",
    "    loss = criterion(softmax(pred_x.cpu()).log(),softmax(pred_droit.cpu()))\n",
    "    # compare the pred on the original images and the pred on the rotated images put back in place\n",
    "    return loss  "
   ]
  },
  {
   "cell_type": "markdown",
   "metadata": {
    "colab_type": "text",
    "id": "tl0nR2NJ8I2i"
   },
   "source": [
    "\n",
    "## DeepLabV3 Pytorch"
   ]
  },
  {
   "cell_type": "code",
   "execution_count": 22,
   "metadata": {
    "colab": {
     "base_uri": "https://localhost:8080/",
     "height": 816
    },
    "colab_type": "code",
    "id": "N3HOA_uv8Oyd",
    "outputId": "c886c10b-558e-4acb-a2ac-b2110fddc29f"
   },
   "outputs": [],
   "source": [
    "def load_model(file=None):\n",
    "    if file is None:\n",
    "        model = torchvision.models.segmentation.deeplabv3_resnet101(pretrained=False)\n",
    "        model.to(device)\n",
    "    else:\n",
    "        model = torch.load(os.path.join(SAVE_DIR,file))\n",
    "    return model"
   ]
  },
  {
   "cell_type": "code",
   "execution_count": 23,
   "metadata": {},
   "outputs": [
    {
     "name": "stderr",
     "output_type": "stream",
     "text": [
      "Downloading: \"https://download.pytorch.org/models/resnet101-5d3b4d8f.pth\" to /root/.cache/torch/checkpoints/resnet101-5d3b4d8f.pth\n",
      "100%|██████████| 170M/170M [00:07<00:00, 24.0MB/s] \n"
     ]
    }
   ],
   "source": [
    "model = load_model() # Load the DLV3 train on 30% of VOC2012"
   ]
  },
  {
   "cell_type": "markdown",
   "metadata": {
    "colab_type": "text",
    "id": "NQeaeCk1hsGu"
   },
   "source": [
    "## Parameters"
   ]
  },
  {
   "cell_type": "code",
   "execution_count": 24,
   "metadata": {
    "colab": {},
    "colab_type": "code",
    "id": "gABxDT_6hrTf"
   },
   "outputs": [],
   "source": [
    "learning_rate = 0.02\n",
    "moment = 0.9\n",
    "wd = 1e-4\n",
    "n_epochs = 25\n",
    "angle_max = 30\n",
    "optimizer = torch.optim.SGD(model.parameters(),lr=learning_rate,momentum=moment, weight_decay=1e-4)\n",
    "lr_scheduler_supervised = torch.optim.lr_scheduler.LambdaLR(\n",
    "        optimizer,\n",
    "        lambda x: (1 - x / (len(dataloader_train_supervised) * n_epochs)) ** 0.9)\n",
    "lr_scheduler_unsupervised = torch.optim.lr_scheduler.LambdaLR(\n",
    "        optimizer,\n",
    "        lambda x: (1 - x / (len(dataloader_train_unsupervised) * n_epochs)) ** 0.9)\n",
    "\n",
    "#writer = SummaryWriter()\n",
    "criterion_supervised = nn.CrossEntropyLoss(ignore_index=21) # On ignore la classe border.\n",
    "criterion_unsupervised = nn.KLDivLoss(reduction='mean')"
   ]
  },
  {
   "cell_type": "markdown",
   "metadata": {},
   "source": [
    "## Train unsupervised"
   ]
  },
  {
   "cell_type": "code",
   "execution_count": 25,
   "metadata": {},
   "outputs": [],
   "source": [
    "save = os.path.join(SAVE_DIR,'deeplabv3_unsupervised_voc.pt')\n",
    "\n",
    "iou_train_unsup = []\n",
    "iou_train_sup = []\n",
    "iou_test = []\n",
    "loss_train_unsup = []\n",
    "loss_train_sup = []\n",
    "loss_test = []\n",
    "all_loss_train_sup = []\n",
    "all_loss_train_unsup = []\n",
    "all_loss_test = []\n",
    "all_iou_train_sup = []\n",
    "all_iou_train_unsup = []\n",
    "all_iou_test = []"
   ]
  },
  {
   "cell_type": "code",
   "execution_count": 26,
   "metadata": {
    "colab": {
     "base_uri": "https://localhost:8080/",
     "height": 1000
    },
    "colab_type": "code",
    "id": "5Y_Uq45Mh0kb",
    "outputId": "028dcf3b-6255-4f1a-dba0-b8ddd0179513"
   },
   "outputs": [
    {
     "name": "stdout",
     "output_type": "stream",
     "text": [
      "EPOCH 0\n"
     ]
    },
    {
     "name": "stderr",
     "output_type": "stream",
     "text": [
      "/opt/conda/lib/python3.6/site-packages/torch/nn/functional.py:1932: UserWarning: reduction: 'mean' divides the total loss by both the batch size and the support size.'batchmean' divides only by the batch size, and aligns with the KL div math definition.'mean' will be changed to behave the same as 'batchmean' in the next major release.\n",
      "  warnings.warn(\"reduction: 'mean' divides the total loss by both the batch size and the support size.\"\n"
     ]
    },
    {
     "name": "stdout",
     "output_type": "stream",
     "text": [
      "EP: 0  loss train unsupervised: 0.0020486608214734907\n",
      "EP: 0  loss test: 3.083421682160476  iou test: 0.09351515641757127\n",
      "EPOCH 1\n",
      "EP: 1  loss train unsupervised: 0.0015391791004800781\n",
      "EP: 1  loss test: 3.0845119561820193  iou test: 0.10082152758323555\n",
      "EPOCH 2\n",
      "EP: 2  loss train unsupervised: 0.0012041231001220908\n",
      "EP: 2  loss test: 3.080808120924851  iou test: 0.10479688339144119\n",
      "EPOCH 3\n",
      "EP: 3  loss train unsupervised: 0.0009772669646572168\n",
      "EP: 3  loss test: 3.0708004892283474  iou test: 0.10825713148380726\n",
      "EPOCH 4\n",
      "EP: 4  loss train unsupervised: 0.0007998416536803169\n",
      "EP: 4  loss test: 3.0730880128926246  iou test: 0.11299957494363831\n",
      "EPOCH 5\n",
      "EP: 5  loss train unsupervised: 0.0006741043585374865\n",
      "EP: 5  loss test: 3.068596660679784  iou test: 0.11636856340313459\n",
      "EPOCH 6\n",
      "EP: 6  loss train unsupervised: 0.0005745374530972404\n",
      "EP: 6  loss test: 3.0680295506839093  iou test: 0.11894202799367687\n",
      "EPOCH 7\n",
      "EP: 7  loss train unsupervised: 0.000495258025127486\n",
      "EP: 7  loss test: 3.0624814970739958  iou test: 0.12078847002310293\n",
      "EPOCH 8\n",
      "EP: 8  loss train unsupervised: 0.00043280281283469016\n",
      "EP: 8  loss test: 3.0619257716474864  iou test: 0.12253545565217541\n",
      "EPOCH 9\n",
      "EP: 9  loss train unsupervised: 0.00038504677960175837\n",
      "EP: 9  loss test: 3.064485121431022  iou test: 0.12366372306783009\n",
      "EPOCH 10\n",
      "EP: 10  loss train unsupervised: 0.00034122694687837673\n",
      "EP: 10  loss test: 3.0631246080069707  iou test: 0.12501271008457668\n",
      "EPOCH 11\n",
      "EP: 11  loss train unsupervised: 0.0003101291059450529\n",
      "EP: 11  loss test: 3.064867930247866  iou test: 0.125804052176516\n",
      "EPOCH 12\n",
      "EP: 12  loss train unsupervised: 0.00028331125579084793\n",
      "EP: 12  loss test: 3.061757907209725  iou test: 0.12612826057581294\n",
      "EPOCH 13\n",
      "EP: 13  loss train unsupervised: 0.00025926908854105064\n",
      "EP: 13  loss test: 3.0618770316551474  iou test: 0.12664802880484033\n",
      "EPOCH 14\n",
      "EP: 14  loss train unsupervised: 0.00024140636817774166\n",
      "EP: 14  loss test: 3.0651283573282178  iou test: 0.12741573647282825\n",
      "EPOCH 15\n",
      "EP: 15  loss train unsupervised: 0.0002268254241447761\n",
      "EP: 15  loss test: 3.0643387304503342  iou test: 0.12774494897979632\n",
      "EPOCH 16\n",
      "EP: 16  loss train unsupervised: 0.00021326792070322766\n",
      "EP: 16  loss test: 3.0647847566933466  iou test: 0.12807160268706302\n",
      "EPOCH 17\n",
      "EP: 17  loss train unsupervised: 0.00020106079308853658\n",
      "EP: 17  loss test: 3.062930526075692  iou test: 0.12846013899936726\n",
      "EPOCH 18\n",
      "EP: 18  loss train unsupervised: 0.00019177574159967448\n",
      "EP: 18  loss test: 3.0634774569807384  iou test: 0.12872260388512774\n",
      "EPOCH 19\n",
      "EP: 19  loss train unsupervised: 0.00018428177894042204\n",
      "EP: 19  loss test: 3.063184062036975  iou test: 0.12870469075294436\n",
      "EPOCH 20\n",
      "EP: 20  loss train unsupervised: 0.0001780539942692833\n",
      "EP: 20  loss test: 3.062794882346844  iou test: 0.12884776623136812\n",
      "EPOCH 21\n",
      "EP: 21  loss train unsupervised: 0.00017395190536531192\n",
      "EP: 21  loss test: 3.063067015943856  iou test: 0.12917428301775763\n",
      "EPOCH 22\n",
      "EP: 22  loss train unsupervised: 0.0001704512349513736\n",
      "EP: 22  loss test: 3.0630987068702433  iou test: 0.12918528885032646\n",
      "EPOCH 23\n",
      "EP: 23  loss train unsupervised: 0.0001681669023948088\n",
      "EP: 23  loss test: 3.0626084876882618  iou test: 0.12917424670904312\n",
      "EPOCH 24\n",
      "EP: 24  loss train unsupervised: 0.0001658403369796251\n",
      "EP: 24  loss test: 3.062970597497348  iou test: 0.1292497762248466\n"
     ]
    }
   ],
   "source": [
    "for ep in range(n_epochs):\n",
    "    print(\"EPOCH\",ep)\n",
    "    for i,(x,mask) in enumerate(dataloader_train_unsupervised):\n",
    "          x = x.to(device)\n",
    "          mask = mask.to(device)\n",
    "          model.train()\n",
    "          angle = np.random.randint(0,angle_max)\n",
    "          loss = compute_transformations_batch(x,model,angle,reshape=False,criterion=criterion_unsupervised)\n",
    "          all_loss_train_unsup.append(loss.item())\n",
    "          optimizer.zero_grad()\n",
    "          loss.backward()\n",
    "          #all_iou_train_unsup.append(float(iou(pred.argmax(dim=1).detach(),mask.detach())))\n",
    "          optimizer.step()\n",
    "          lr_scheduler_unsupervised.step()\n",
    "\n",
    "\n",
    "    #m_iou = np.array(all_iou_train_unsup).mean()\n",
    "    m_loss = np.array(all_loss_train_unsup).mean()\n",
    "    loss_train_unsup.append(m_loss)\n",
    "    #iou_train_unsup.append(m_iou)\n",
    "    all_loss_train_unsup = []\n",
    "    all_iou_train_unsup = []\n",
    "    print(\"EP:\",ep,\" loss train unsupervised:\",m_loss)\n",
    "\n",
    "    for i,(x,mask) in enumerate(dataloader_val):\n",
    "          x = x.to(device)\n",
    "          mask = mask.to(device)\n",
    "          model.eval()\n",
    "          with torch.no_grad():\n",
    "            pred = model(x)\n",
    "            pred = pred[\"out\"]\n",
    "          loss = criterion_supervised(pred,mask)\n",
    "          all_loss_test.append(loss.item())\n",
    "          all_iou_test.append(float(iou(pred.argmax(dim=1).detach(),mask.detach())))\n",
    "\n",
    "    m_iou = np.array(all_iou_test).mean()\n",
    "    m_loss = np.array(all_loss_test).mean()\n",
    "    loss_test.append(m_loss)\n",
    "    iou_test.append(m_iou)\n",
    "    all_loss_test = []\n",
    "    all_iou_test = []\n",
    "    print(\"EP:\",ep,\" loss test:\",m_loss,\" iou test:\",m_iou)\n",
    "\n",
    "\n",
    "    torch.save(model,save)\n",
    "    \n"
   ]
  },
  {
   "cell_type": "markdown",
   "metadata": {
    "colab_type": "text",
    "id": "PAUmF-R0B6U0"
   },
   "source": [
    "## Plot"
   ]
  },
  {
   "cell_type": "code",
   "execution_count": 27,
   "metadata": {
    "colab": {},
    "colab_type": "code",
    "id": "Ac8jahWTB7gq"
   },
   "outputs": [
    {
     "data": {
      "text/plain": [
       "Text(0, 0.5, 'Mean IOU')"
      ]
     },
     "execution_count": 27,
     "metadata": {},
     "output_type": "execute_result"
    },
    {
     "data": {
      "image/png": "[encoded data removed]",
      "text/plain": [
       "<Figure size 720x576 with 1 Axes>"
      ]
     },
     "metadata": {
      "needs_background": "light"
     },
     "output_type": "display_data"
    },
    {
     "data": {
      "image/png": "[encoded data removed]",
      "text/plain": [
       "<Figure size 720x576 with 1 Axes>"
      ]
     },
     "metadata": {
      "needs_background": "light"
     },
     "output_type": "display_data"
    },
    {
     "data": {
      "image/png": "[encoded data removed]",
      "text/plain": [
       "<Figure size 720x576 with 1 Axes>"
      ]
     },
     "metadata": {
      "needs_background": "light"
     },
     "output_type": "display_data"
    },
    {
     "data": {
      "image/png": "[encoded data removed]",
      "text/plain": [
       "<Figure size 720x576 with 1 Axes>"
      ]
     },
     "metadata": {
      "needs_background": "light"
     },
     "output_type": "display_data"
    },
    {
     "data": {
      "image/png": "[encoded data removed]",
      "text/plain": [
       "<Figure size 720x576 with 1 Axes>"
      ]
     },
     "metadata": {
      "needs_background": "light"
     },
     "output_type": "display_data"
    }
   ],
   "source": [
    "plt.figure(figsize=(10,8))\n",
    "plt.subplot(2,1,1)\n",
    "plt.title(\"DLV3 supervised loss train\")\n",
    "plt.plot(loss_train_sup)\n",
    "plt.xlabel(\"iterations\")\n",
    "plt.ylabel(\"Loss\")\n",
    "\n",
    "plt.figure(figsize=(10,8))\n",
    "plt.subplot(2,1,1)\n",
    "plt.title(\"DLV3 unsupervised loss train\")\n",
    "plt.plot(loss_train_unsup)\n",
    "plt.xlabel(\"iterations\")\n",
    "plt.ylabel(\"Loss\")\n",
    "\n",
    "\n",
    "plt.figure(figsize=(10,8))\n",
    "plt.subplot(2,1,1)\n",
    "plt.title(\"DLV3 semi supervised loss test\")\n",
    "plt.plot(loss_test)\n",
    "plt.xlabel(\"iterations\")\n",
    "plt.ylabel(\"Loss\")\n",
    "\n",
    "\n",
    "plt.figure(figsize=(10,8))\n",
    "plt.subplot(2,1,1)\n",
    "plt.title(\"DLV3 mean iou train supervised\")\n",
    "plt.plot(iou_train_sup)\n",
    "plt.xlabel(\"iterations\")\n",
    "plt.ylabel(\"Mean IOU\")\n",
    "\n",
    "\n",
    "plt.figure(figsize=(10,8))\n",
    "plt.subplot(2,1,1)\n",
    "plt.title(\"DLV3 semi supervised mean iou test\")\n",
    "plt.plot(iou_test)\n",
    "plt.xlabel(\"iterations\")\n",
    "plt.ylabel(\"Mean IOU\")"
   ]
  },
  {
   "cell_type": "code",
   "execution_count": 33,
   "metadata": {},
   "outputs": [],
   "source": [
    "np.save('/data/model/dlv3_unsup_iou_test.npy',np.array(iou_test))"
   ]
  },
  {
   "cell_type": "code",
   "execution_count": 28,
   "metadata": {
    "colab": {},
    "colab_type": "code",
    "id": "aBuisLmQLfsj"
   },
   "outputs": [
    {
     "data": {
      "image/png": "[encoded data removed]",
      "text/plain": [
       "<Figure size 432x288 with 2 Axes>"
      ]
     },
     "metadata": {
      "needs_background": "light"
     },
     "output_type": "display_data"
    },
    {
     "name": "stdout",
     "output_type": "stream",
     "text": [
      "Classe prédite :  ['aeroplane', 'bicycle', 'bird', 'boat', 'bottle', 'bus', 'cat', 'dog', 'person', 'sheep', 'sofa', 'train']\n",
      "Classe réelle :  ['background', 'train']\n",
      "0.0013261440367216503\n",
      "IOU sur ce masque : 0.011256039142608643\n"
     ]
    },
    {
     "name": "stderr",
     "output_type": "stream",
     "text": [
      "/workspace/metric.py:42: RuntimeWarning: invalid value encountered in true_divide\n",
      "  acc_cls = np.diag(hist) / hist.sum(axis=1)\n",
      "/workspace/metric.py:44: RuntimeWarning: invalid value encountered in true_divide\n",
      "  iu = np.diag(hist) / (hist.sum(axis=1) + hist.sum(axis=0) - np.diag(hist))\n"
     ]
    }
   ],
   "source": [
    "x,mask = next(iter(dataloader_val))\n",
    "i = 1\n",
    "x = x.to(device)\n",
    "mask = mask.to(device)\n",
    "pred = model(x)\n",
    "pred = pred[\"out\"]\n",
    "fig = plt.figure()\n",
    "\n",
    "a = fig.add_subplot(1,2,1)\n",
    "plt.imshow(pred.max(dim=1)[1][i].cpu())\n",
    "\n",
    "a = fig.add_subplot(1,2,2)\n",
    "plt.imshow(mask.cpu().detach().numpy()[i])\n",
    "\n",
    "plt.show()\n",
    "\n",
    "class_pred = []\n",
    "class_mask = []\n",
    "\n",
    "for p in pred.argmax(dim=1)[i].unique():\n",
    "  class_pred.append(VOC_CLASSES[int(p)])\n",
    "for m in mask[i].unique():\n",
    "  class_mask.append(VOC_CLASSES[int(m)])\n",
    "\n",
    "print(\"Classe prédite : \",class_pred)\n",
    "print(\"Classe réelle : \",class_mask)\n",
    "print(scores(pred.argmax(dim=1)[i],mask[i])[\"Pixel Accuracy\"])\n",
    "print(\"IOU sur ce masque :\",float(iou(pred.argmax(dim=1)[i].unsqueeze(0),mask[i].unsqueeze(0))))\n"
   ]
  },
  {
   "cell_type": "code",
   "execution_count": null,
   "metadata": {},
   "outputs": [],
   "source": []
  }
 ],
 "metadata": {
  "accelerator": "GPU",
  "colab": {
   "collapsed_sections": [],
   "name": "FCN_seg2012.ipynb",
   "provenance": []
  },
  "kernelspec": {
   "display_name": "Python 3",
   "language": "python",
   "name": "python3"
  },
  "language_info": {
   "codemirror_mode": {
    "name": "ipython",
    "version": 3
   },
   "file_extension": ".py",
   "mimetype": "text/x-python",
   "name": "python",
   "nbconvert_exporter": "python",
   "pygments_lexer": "ipython3",
   "version": "3.6.9"
  }
 },
 "nbformat": 4,
 "nbformat_minor": 1
}
