{
 "cells": [
  {
   "cell_type": "markdown",
   "metadata": {
    "colab_type": "text",
    "id": "EZbrYjvKvkaH"
   },
   "source": [
    "# Autosupervised learning for semantic segmentation using Equivariance propreties"
   ]
  },
  {
   "cell_type": "code",
   "execution_count": 1,
   "metadata": {
    "colab": {},
    "colab_type": "code",
    "id": "KX2t25zgvkaf"
   },
   "outputs": [],
   "source": [
    "%matplotlib inline\n",
    "import argparse\n",
    "import os\n",
    "import random\n",
    "import torch\n",
    "import torch.nn as nn\n",
    "import torch.nn.parallel\n",
    "import torch.nn.functional as F\n",
    "import torch.backends.cudnn as cudnn\n",
    "import torch.optim as optim\n",
    "import torchvision\n",
    "from torchvision import models\n",
    "import torch.utils.data\n",
    "import torchvision.datasets as dset\n",
    "import torchvision.transforms as transforms\n",
    "import torchvision.transforms.functional as TF\n",
    "import torchvision.utils as vutils\n",
    "from torch.utils.tensorboard import SummaryWriter\n",
    "from torch.utils.data import DataLoader, Dataset\n",
    "from torch.utils.data.dataset import random_split\n",
    "import numpy as np\n",
    "import matplotlib.pyplot as plt\n",
    "import matplotlib.animation as animation\n",
    "from IPython.display import HTML\n",
    "from tqdm import tqdm\n",
    "from PIL import Image\n",
    "from collections import Counter\n",
    "from sklearn.metrics import jaccard_score\n",
    "import pickle\n",
    "from metric import *\n",
    "from utils import * \n",
    "from scipy.ndimage.interpolation import rotate as scipy_rotate"
   ]
  },
  {
   "cell_type": "markdown",
   "metadata": {
    "colab_type": "text",
    "id": "Aw2xTNEkvka0"
   },
   "source": [
    "\n",
    "\n",
    "\n",
    "## Dataset : Pascal VOC 2012"
   ]
  },
  {
   "cell_type": "code",
   "execution_count": 2,
   "metadata": {
    "colab": {},
    "colab_type": "code",
    "id": "IzkSq_mgrcLR"
   },
   "outputs": [],
   "source": [
    "dataroot = '/data/voc2012'\n",
    "SAVE_DIR = '/data/model'\n"
   ]
  },
  {
   "cell_type": "code",
   "execution_count": 3,
   "metadata": {
    "colab": {},
    "colab_type": "code",
    "id": "sB8mbIvdlRUW"
   },
   "outputs": [],
   "source": [
    "def change_type_input(img):\n",
    "  return img.float()\n",
    "\n",
    "def to_tensor_target(img):\n",
    "  img = np.array(img)\n",
    "  # border\n",
    "  img[img==255] = 0 # border = background \n",
    "  return torch.LongTensor(img)\n",
    "\n",
    "def padding(img,pad=(6,9)):\n",
    "    return transforms.functional.pad(img, pad, fill=0, padding_mode='constant')\n",
    "\n",
    "size = (513,513)\n",
    "MEAN = [0.485, 0.456, 0.406]\n",
    "STD = [0.229, 0.224, 0.225]\n",
    "transform_input = transforms.Compose([\n",
    "                                   #transforms.Lambda(padding),\n",
    "                                   transforms.Resize(size),\n",
    "                                   transforms.ToTensor(),\n",
    "                                   transforms.Normalize(mean=[0.485, 0.456, 0.406], std=[0.229, 0.224, 0.225]),\n",
    "                                    ])\n",
    "\n",
    "transform_mask = transforms.Compose([\n",
    "                                   #transforms.Lambda(padding),\n",
    "                                   transforms.Resize(size),\n",
    "                                   transforms.Lambda(to_tensor_target)\n",
    "                                   ])\n"
   ]
  },
  {
   "cell_type": "code",
   "execution_count": 4,
   "metadata": {
    "colab": {
     "base_uri": "https://localhost:8080/",
     "height": 52
    },
    "colab_type": "code",
    "id": "AAj55UZxOZte",
    "outputId": "9257ab6a-d935-4c69-ddf6-ea40effa907a"
   },
   "outputs": [
    {
     "name": "stdout",
     "output_type": "stream",
     "text": [
      "Using downloaded and verified file: /data/voc2012/VOCtrainval_11-May-2012.tar\n",
      "Using downloaded and verified file: /data/voc2012/VOCtrainval_11-May-2012.tar\n"
     ]
    }
   ],
   "source": [
    "train_dataset = dset.VOCSegmentation(dataroot,year='2012', image_set='train', download=True,\n",
    "                                     transform= transform_input,\n",
    "                                     target_transform= transform_mask)\n",
    "\n",
    "val_dataset = dset.VOCSegmentation(dataroot,year='2012', image_set='val', download=True,\n",
    "                                     transform= transform_input,\n",
    "                                     target_transform= transform_mask)"
   ]
  },
  {
   "cell_type": "markdown",
   "metadata": {},
   "source": [
    "### Split dataset into a labeled dataset and a unlabeled dataset"
   ]
  },
  {
   "cell_type": "code",
   "execution_count": 20,
   "metadata": {},
   "outputs": [],
   "source": [
    "class Split_Dataset(Dataset):\n",
    "    def __init__(self, subset, transform=None):\n",
    "        self.subset = subset\n",
    "        self.transform = transform\n",
    "        \n",
    "    def __getitem__(self, index):\n",
    "        x, y = self.subset[index]\n",
    "        if self.transform:\n",
    "            x = self.transform(x)\n",
    "        return x, y\n",
    "        \n",
    "    def __len__(self):\n",
    "        return len(self.subset)\n",
    "\n",
    "    \n",
    "percent = 0.3\n",
    "split = int(len(train_dataset)*percent)\n",
    "lengths = [split,len(train_dataset)-split]\n",
    "labeled, unlabeled = random_split(train_dataset, lengths)\n",
    "train_full_supervised = Split_Dataset(\n",
    "    labeled)\n",
    "\n",
    "train_unsupervised = Split_Dataset(\n",
    "    unlabeled)\n"
   ]
  },
  {
   "cell_type": "markdown",
   "metadata": {},
   "source": [
    "### Plot VOC image and mask"
   ]
  },
  {
   "cell_type": "code",
   "execution_count": 21,
   "metadata": {},
   "outputs": [],
   "source": [
    "\"\"\"Pascal VOC Dataset Segmentation Dataloader\"\"\"\n",
    "\n",
    "\n",
    "VOC_CLASSES = ('background',  # always index 0\n",
    "               'aeroplane', 'bicycle', 'bird', 'boat',\n",
    "               'bottle', 'bus', 'car', 'cat', 'chair',\n",
    "               'cow', 'diningtable', 'dog', 'horse',\n",
    "               'motorbike', 'person', 'pottedplant',\n",
    "               'sheep', 'sofa', 'train', 'tvmonitor')\n",
    "\n",
    "NUM_CLASSES = len(VOC_CLASSES) + 1\n",
    "\n",
    "\n"
   ]
  },
  {
   "cell_type": "code",
   "execution_count": 22,
   "metadata": {
    "colab": {
     "base_uri": "https://localhost:8080/",
     "height": 235
    },
    "colab_type": "code",
    "id": "2LNgEyo8bKFW",
    "outputId": "eef079f3-1da8-4dea-c58b-b9d89fb75aef"
   },
   "outputs": [
    {
     "name": "stderr",
     "output_type": "stream",
     "text": [
      "Clipping input data to the valid range for imshow with RGB data ([0..1] for floats or [0..255] for integers).\n"
     ]
    },
    {
     "name": "stdout",
     "output_type": "stream",
     "text": [
      "<class 'torch.Tensor'>\n",
      "torch.Size([3, 513, 513])\n",
      "torch.Size([513, 513, 3])\n"
     ]
    },
    {
     "data": {
      "image/png": "[encoded data removed]",
      "text/plain": [
       "<Figure size 432x288 with 2 Axes>"
      ]
     },
     "metadata": {
      "needs_background": "light"
     },
     "output_type": "display_data"
    },
    {
     "data": {
      "text/plain": [
       "torch.Size([513, 513])"
      ]
     },
     "execution_count": 22,
     "metadata": {},
     "output_type": "execute_result"
    }
   ],
   "source": [
    "sample = train_dataset.__getitem__(0)\n",
    "image, mask = sample[0], sample[1]\n",
    "print(type(image))\n",
    "print(image.size())\n",
    "image.transpose_(0, 2)\n",
    "image.transpose_(0, 1)\n",
    "print(image.size())\n",
    "\n",
    "fig = plt.figure()\n",
    "\n",
    "a = fig.add_subplot(1,2,1)\n",
    "plt.imshow(image)    #.transpose(0,1)\n",
    "\n",
    "a = fig.add_subplot(1,2,2)\n",
    "plt.imshow(mask)\n",
    "\n",
    "plt.show()\n",
    "mask.size()\n"
   ]
  },
  {
   "cell_type": "markdown",
   "metadata": {},
   "source": [
    "### Dataloaders"
   ]
  },
  {
   "cell_type": "code",
   "execution_count": 23,
   "metadata": {
    "colab": {
     "base_uri": "https://localhost:8080/",
     "height": 34
    },
    "colab_type": "code",
    "id": "LUqeDj5hvka3",
    "outputId": "92a782a5-3bc5-48f5-b57a-af5993c9c201"
   },
   "outputs": [
    {
     "name": "stdout",
     "output_type": "stream",
     "text": [
      "device : cuda:0\n"
     ]
    }
   ],
   "source": [
    "\n",
    "# Set batch_size\n",
    "batch_size = 2\n",
    "\n",
    "dataloader_train_supervised = torch.utils.data.DataLoader(train_full_supervised, batch_size=batch_size,drop_last=True)\n",
    "dataloader_train_unsupervised = torch.utils.data.DataLoader(train_dataset, batch_size=batch_size,drop_last=True)\n",
    "dataloader_val = torch.utils.data.DataLoader(val_dataset, batch_size=batch_size)\n",
    "# Decide which device we want to run on\n",
    "device = torch.device(\"cuda:0\" if torch.cuda.is_available() else \"cpu\")\n",
    "print(\"device :\",device)\n",
    "\n"
   ]
  },
  {
   "cell_type": "code",
   "execution_count": 25,
   "metadata": {
    "colab": {
     "base_uri": "https://localhost:8080/",
     "height": 52
    },
    "colab_type": "code",
    "id": "63IQP70Qg8BL",
    "outputId": "e38a98ff-0b99-4e3a-eae4-bdf29ddf3636"
   },
   "outputs": [
    {
     "name": "stdout",
     "output_type": "stream",
     "text": [
      "Length dataset train fully supervised : 439\n",
      "Length dataset train unsupervised : 1464\n",
      "Length dataset val : 1449\n"
     ]
    }
   ],
   "source": [
    "print(\"Length dataset train fully supervised :\",len(train_full_supervised))\n",
    "print(\"Length dataset train unsupervised :\",len(train_dataset))\n",
    "print(\"Length dataset val :\",len(val_dataset))"
   ]
  },
  {
   "cell_type": "markdown",
   "metadata": {
    "colab_type": "text",
    "id": "lJYmOGeshFet"
   },
   "source": [
    "## Test metric code"
   ]
  },
  {
   "cell_type": "code",
   "execution_count": 26,
   "metadata": {
    "colab": {
     "base_uri": "https://localhost:8080/",
     "height": 34
    },
    "colab_type": "code",
    "id": "kETyYQu8hHKx",
    "outputId": "738272db-9c88-4f9c-c047-1aba9e00478d"
   },
   "outputs": [
    {
     "data": {
      "text/plain": [
       "tensor(0.1377)"
      ]
     },
     "execution_count": 26,
     "metadata": {},
     "output_type": "execute_result"
    }
   ],
   "source": [
    "iou(next(iter(dataloader_val))[1],next(iter(dataloader_train_supervised))[1])"
   ]
  },
  {
   "cell_type": "markdown",
   "metadata": {},
   "source": [
    "## Equivarience utils functions"
   ]
  },
  {
   "cell_type": "code",
   "execution_count": 27,
   "metadata": {},
   "outputs": [],
   "source": [
    "# rotate images\n",
    "def rotate_image(image,angle,reshape=False):\n",
    "    \"\"\"\n",
    "        Rotate a tensor with a certain angle.\n",
    "        If true, expands the output image to make it large enough to hold the entire rotated image.\n",
    "        Else it keeps the same size\n",
    "    \"\"\"\n",
    "    #image = image.squeeze()\n",
    "    if len(image.size())==3: # Case of a single image.\n",
    "        axes = ((1,2))\n",
    "    elif len(image.size())==4: # Case of a batch of images\n",
    "        axes = ((2,3))\n",
    "    else:\n",
    "        print(\"Size must be 4 or 5.\")\n",
    "        return \n",
    "    im = scipy_rotate(image.numpy(),angle=angle,reshape=reshape,axes=axes)\n",
    "    im_t = torch.FloatTensor(im)\n",
    "    return (im_t,360-angle)\n",
    "\n",
    "sample = train_dataset.__getitem__(0)\n",
    "image, mask = sample[0], sample[1]\n"
   ]
  },
  {
   "cell_type": "code",
   "execution_count": 28,
   "metadata": {},
   "outputs": [],
   "source": [
    "def rotate_mask(mask,angle,reshape=False):\n",
    "    \"\"\"\n",
    "        This function take a prediction from the model [batch_size,21,513,513] \n",
    "        and rotate, by an angle add as a parameters, the prediction.\n",
    "        To make sure there is no error it is preferable to use new_angle returned by the function 'rotate_image'.\n",
    "    \"\"\"\n",
    "    with torch.no_grad():\n",
    "        if len(mask.size())==3: # Case of a single mask.\n",
    "            axes = ((1,2))\n",
    "        elif len(mask.size())==4: # Case of a batch of masks\n",
    "            axes = ((2,3))\n",
    "        else:\n",
    "            print(\"Size must be 4 or 5.\")\n",
    "            return \n",
    "        m = scipy_rotate(mask.numpy(),angle=angle,reshape=reshape,axes=axes,mode='nearest')\n",
    "        mask_t = torch.FloatTensor(m)\n",
    "        return mask_t\n",
    "\n",
    "    "
   ]
  },
  {
   "cell_type": "markdown",
   "metadata": {},
   "source": [
    "### Apply transformations on a batch of images"
   ]
  },
  {
   "cell_type": "code",
   "execution_count": 29,
   "metadata": {},
   "outputs": [],
   "source": [
    "def compute_transformations_batch(x,model,angle,reshape=False,criterion=nn.KLDivLoss(reduction='mean')):\n",
    "    x = x.to(device)\n",
    "    rot_x,new_angle = rotate_image(x.detach().cpu(),angle=angle,reshape=reshape)\n",
    "    softmax = nn.Softmax(dim=1)\n",
    "    try:\n",
    "        pred_x = model(x.to(device))['out'] # a prediction of the original images.\n",
    "        pred_rot = model(rot_x.to(device))['out'] # a prediction of the rotated images.\n",
    "    except:\n",
    "        pred_x = model(x.to(device))\n",
    "        pred_rot = model(rot_x.to(device))\n",
    "    \n",
    "    pred_droit = rotate_mask(pred_rot.detach().cpu(),new_angle,reshape=reshape)\n",
    "    loss = criterion(softmax(pred_x.cpu()).log(),softmax(pred_droit.cpu()))\n",
    "    # compare the pred on the original images and the pred on the rotated images put back in place\n",
    "    return loss  "
   ]
  },
  {
   "cell_type": "markdown",
   "metadata": {
    "colab_type": "text",
    "id": "tl0nR2NJ8I2i"
   },
   "source": [
    "\n",
    "## DeepLabV3 Pytorch"
   ]
  },
  {
   "cell_type": "code",
   "execution_count": 30,
   "metadata": {
    "colab": {
     "base_uri": "https://localhost:8080/",
     "height": 816
    },
    "colab_type": "code",
    "id": "N3HOA_uv8Oyd",
    "outputId": "c886c10b-558e-4acb-a2ac-b2110fddc29f"
   },
   "outputs": [],
   "source": [
    "def load_model(file=None):\n",
    "    if file is None:\n",
    "        model = torchvision.models.segmentation.deeplabv3_resnet101(pretrained=False)\n",
    "        model.to(device)\n",
    "    else:\n",
    "        model = torch.load(os.path.join(SAVE_DIR,file))\n",
    "    return model"
   ]
  },
  {
   "cell_type": "code",
   "execution_count": 31,
   "metadata": {},
   "outputs": [],
   "source": [
    "model = load_model() # Load the DLV3 train on 30% of VOC2012"
   ]
  },
  {
   "cell_type": "markdown",
   "metadata": {
    "colab_type": "text",
    "id": "NQeaeCk1hsGu"
   },
   "source": [
    "## Parameters"
   ]
  },
  {
   "cell_type": "code",
   "execution_count": 37,
   "metadata": {
    "colab": {},
    "colab_type": "code",
    "id": "gABxDT_6hrTf"
   },
   "outputs": [],
   "source": [
    "learning_rate = 0.02\n",
    "moment = 0.9\n",
    "wd = 1e-4\n",
    "n_epochs = 35\n",
    "angle_max = 30\n",
    "optimizer = torch.optim.SGD(model.parameters(),lr=learning_rate,momentum=moment, weight_decay=1e-4)\n",
    "lr_scheduler_supervised = torch.optim.lr_scheduler.LambdaLR(\n",
    "        optimizer,\n",
    "        lambda x: (1 - x / (len(dataloader_train_supervised) * n_epochs)) ** 0.9)\n",
    "lr_scheduler_unsupervised = torch.optim.lr_scheduler.LambdaLR(\n",
    "        optimizer,\n",
    "        lambda x: (1 - x / (len(dataloader_train_unsupervised) * n_epochs)) ** 0.9)\n",
    "\n",
    "#writer = SummaryWriter()\n",
    "criterion_supervised = nn.CrossEntropyLoss(ignore_index=21) # On ignore la classe border.\n",
    "criterion_unsupervised = nn.KLDivLoss(reduction='mean')"
   ]
  },
  {
   "cell_type": "markdown",
   "metadata": {},
   "source": [
    "## Train unsupervised"
   ]
  },
  {
   "cell_type": "code",
   "execution_count": 38,
   "metadata": {},
   "outputs": [],
   "source": [
    "save = os.path.join(SAVE_DIR,'deeplabv3_10_autosup_voc.pt')\n",
    "\n",
    "iou_train_unsup = []\n",
    "iou_train_sup = []\n",
    "iou_test = []\n",
    "loss_train_unsup = []\n",
    "loss_train_sup = []\n",
    "loss_test = []\n",
    "all_loss_train_sup = []\n",
    "all_loss_train_unsup = []\n",
    "all_loss_test = []\n",
    "all_iou_train_sup = []\n",
    "all_iou_train_unsup = []\n",
    "all_iou_test = []"
   ]
  },
  {
   "cell_type": "code",
   "execution_count": null,
   "metadata": {
    "colab": {
     "base_uri": "https://localhost:8080/",
     "height": 1000
    },
    "colab_type": "code",
    "id": "5Y_Uq45Mh0kb",
    "outputId": "028dcf3b-6255-4f1a-dba0-b8ddd0179513"
   },
   "outputs": [
    {
     "name": "stdout",
     "output_type": "stream",
     "text": [
      "EPOCH 0\n"
     ]
    },
    {
     "name": "stderr",
     "output_type": "stream",
     "text": [
      "/opt/conda/lib/python3.6/site-packages/torch/nn/functional.py:1932: UserWarning: reduction: 'mean' divides the total loss by both the batch size and the support size.'batchmean' divides only by the batch size, and aligns with the KL div math definition.'mean' will be changed to behave the same as 'batchmean' in the next major release.\n",
      "  warnings.warn(\"reduction: 'mean' divides the total loss by both the batch size and the support size.\"\n"
     ]
    },
    {
     "name": "stdout",
     "output_type": "stream",
     "text": [
      "EP: 0  loss train unsupervised: 0.0020200492993259263\n",
      "EP: 0  loss test: 3.0788113298087283  iou test: 0.09141803112370765\n",
      "EPOCH 1\n",
      "EP: 1  loss train unsupervised: 0.0014896292437906148\n",
      "EP: 1  loss test: 3.0790587461405785  iou test: 0.09513999113259067\n",
      "EPOCH 2\n",
      "EP: 2  loss train unsupervised: 0.0011666388195383367\n",
      "EP: 2  loss test: 3.0741515596981706  iou test: 0.0963481653800459\n",
      "EPOCH 3\n",
      "EP: 3  loss train unsupervised: 0.0009298716876763963\n",
      "EP: 3  loss test: 3.0684661503495843  iou test: 0.09833964280398755\n",
      "EPOCH 4\n",
      "EP: 4  loss train unsupervised: 0.0007576905257740348\n",
      "EP: 4  loss test: 3.0579711522727178  iou test: 0.10006571619675077\n",
      "EPOCH 5\n",
      "EP: 5  loss train unsupervised: 0.0006247191331915486\n",
      "EP: 5  loss test: 3.0533231893079034  iou test: 0.10197537598537346\n",
      "EPOCH 6\n",
      "EP: 6  loss train unsupervised: 0.0005213971162845299\n",
      "EP: 6  loss test: 3.0441500877511913  iou test: 0.10104543099757926\n",
      "EPOCH 7\n",
      "EP: 7  loss train unsupervised: 0.0004453141657114563\n",
      "EP: 7  loss test: 3.04003915260578  iou test: 0.10337988835663117\n",
      "EPOCH 8\n",
      "EP: 8  loss train unsupervised: 0.00038244002489144075\n",
      "EP: 8  loss test: 3.0335883699614428  iou test: 0.10348164021519238\n",
      "EPOCH 9\n",
      "EP: 9  loss train unsupervised: 0.0003312615869513362\n",
      "EP: 9  loss test: 3.0290516320590317  iou test: 0.10412347679138825\n",
      "EPOCH 10\n",
      "EP: 10  loss train unsupervised: 0.00029174376640846074\n",
      "EP: 10  loss test: 3.0238896978312524  iou test: 0.10498361816035648\n",
      "EPOCH 11\n",
      "EP: 11  loss train unsupervised: 0.0002568412963258003\n",
      "EP: 11  loss test: 3.02025032142113  iou test: 0.1054488514628711\n",
      "EPOCH 12\n",
      "EP: 12  loss train unsupervised: 0.00022970735921004095\n",
      "EP: 12  loss test: 3.0169836741480336  iou test: 0.10652685900475702\n",
      "EPOCH 13\n",
      "EP: 13  loss train unsupervised: 0.0002060359905844763\n",
      "EP: 13  loss test: 3.0146691506484458  iou test: 0.1078859455960578\n",
      "EPOCH 14\n",
      "EP: 14  loss train unsupervised: 0.00018818365780368213\n",
      "EP: 14  loss test: 3.0128298410876044  iou test: 0.10807114707241798\n",
      "EPOCH 15\n",
      "EP: 15  loss train unsupervised: 0.0001712785591625817\n",
      "EP: 15  loss test: 3.009733756492878  iou test: 0.10849216225043196\n",
      "EPOCH 16\n",
      "EP: 16  loss train unsupervised: 0.00015688894410863203\n",
      "EP: 16  loss test: 3.0080924672093885  iou test: 0.10915572516266898\n",
      "EPOCH 17\n",
      "EP: 17  loss train unsupervised: 0.00014419768726565467\n",
      "EP: 17  loss test: 3.008183804544909  iou test: 0.10949684862175892\n",
      "EPOCH 18\n",
      "EP: 18  loss train unsupervised: 0.00013420178575110125\n",
      "EP: 18  loss test: 3.006926455333315  iou test: 0.10965665755809509\n",
      "EPOCH 19\n",
      "EP: 19  loss train unsupervised: 0.00012547351577611197\n",
      "EP: 19  loss test: 3.0073693301759916  iou test: 0.11047878517897736\n",
      "EPOCH 20\n",
      "EP: 20  loss train unsupervised: 0.00011808195101808759\n",
      "EP: 20  loss test: 3.00509730207509  iou test: 0.11021417878857204\n",
      "EPOCH 21\n",
      "EP: 21  loss train unsupervised: 0.00011096369106795822\n",
      "EP: 21  loss test: 3.005830983786747  iou test: 0.1110748369479552\n",
      "EPOCH 22\n",
      "EP: 22  loss train unsupervised: 0.00010507564644295534\n",
      "EP: 22  loss test: 3.0044745491290916  iou test: 0.11052462106795403\n",
      "EPOCH 23\n",
      "EP: 23  loss train unsupervised: 0.00010025018240949216\n",
      "EP: 23  loss test: 3.0037884751681623  iou test: 0.11079646265118158\n",
      "EPOCH 24\n",
      "EP: 24  loss train unsupervised: 9.62753520219789e-05\n",
      "EP: 24  loss test: 3.0041434465605636  iou test: 0.1110903974805541\n",
      "EPOCH 25\n",
      "EP: 25  loss train unsupervised: 9.228620499507982e-05\n",
      "EP: 25  loss test: 3.0034405764218035  iou test: 0.11123764786612371\n",
      "EPOCH 26\n",
      "EP: 26  loss train unsupervised: 8.819676296780067e-05\n",
      "EP: 26  loss test: 3.0030034022495666  iou test: 0.11085187485939342\n",
      "EPOCH 27\n",
      "EP: 27  loss train unsupervised: 8.576162648840509e-05\n",
      "EP: 27  loss test: 3.0025960882778824  iou test: 0.1107955008133411\n",
      "EPOCH 28\n",
      "EP: 28  loss train unsupervised: 8.36463065250507e-05\n",
      "EP: 28  loss test: 3.003179178237915  iou test: 0.11070660039365035\n",
      "EPOCH 29\n",
      "EP: 29  loss train unsupervised: 8.10491949236504e-05\n",
      "EP: 29  loss test: 3.003916994949867  iou test: 0.11163906418124278\n",
      "EPOCH 30\n",
      "EP: 30  loss train unsupervised: 7.97718522121638e-05\n",
      "EP: 30  loss test: 3.00345441785352  iou test: 0.11161225025574195\n",
      "EPOCH 31\n",
      "EP: 31  loss train unsupervised: 7.848189672755135e-05\n",
      "EP: 31  loss test: 3.002551138318818  iou test: 0.11129733130094949\n",
      "EPOCH 32\n",
      "EP: 32  loss train unsupervised: 7.70683900058022e-05\n",
      "EP: 32  loss test: 3.002825135855839  iou test: 0.11137956883196301\n",
      "EPOCH 33\n",
      "EP: 33  loss train unsupervised: 7.67674840664042e-05\n",
      "EP: 33  loss test: 3.002377097688872  iou test: 0.11115560408521058\n",
      "EPOCH 34\n",
      "EP: 34  loss train unsupervised: 7.620408629665063e-05\n",
      "EP: 34  loss test: 3.0023422191882956  iou test: 0.11129449475299695\n",
      "EPOCH 0\n",
      "EP: 0  loss train supervised: 1.3518147608733069  iou train supervised: 0.001640193965513713\n",
      "EP: 0  loss test: 1.2837202023637706  iou test: 1.986582079607163e-11\n",
      "EPOCH 1\n",
      "EP: 1  loss train supervised: 1.24148101961776  iou train supervised: 1.0715313049340668e-11\n",
      "EP: 1  loss test: 1.2092294294258643  iou test: 1.986582079607163e-11\n",
      "EPOCH 2\n",
      "EP: 2  loss train supervised: 1.2049622877275563  iou train supervised: 1.0715313049340668e-11\n",
      "EP: 2  loss test: 1.2745605343580246  iou test: 0.00042241283844639434\n",
      "EPOCH 3\n",
      "EP: 3  loss train supervised: 1.2003542279407857  iou train supervised: 0.00012474305070421336\n",
      "EP: 3  loss test: 1.3540912614197567  iou test: 0.009929131956632753\n",
      "EPOCH 4\n",
      "EP: 4  loss train supervised: 1.1903634112175197  iou train supervised: 0.0009679649863777246\n",
      "EP: 4  loss test: 1.2483438838350362  iou test: 0.0031874182603692162\n",
      "EPOCH 5\n",
      "EP: 5  loss train supervised: 1.1756795112673006  iou train supervised: 0.0036576968707724877\n",
      "EP: 5  loss test: 1.2541235816067662  iou test: 0.0025896347950756203\n",
      "EPOCH 6\n",
      "EP: 6  loss train supervised: 1.1775481988033747  iou train supervised: 0.007289523163303774\n",
      "EP: 6  loss test: 1.588959476988891  iou test: 0.038576026968295665\n",
      "EPOCH 7\n",
      "EP: 7  loss train supervised: 1.164283943638954  iou train supervised: 0.004261709825752513\n",
      "EP: 7  loss test: 1.379056752241891  iou test: 0.021612783211900088\n",
      "EPOCH 8\n",
      "EP: 8  loss train supervised: 1.148258925300755  iou train supervised: 0.010264934382447159\n",
      "EP: 8  loss test: 1.235473166395878  iou test: 0.01366994497774883\n",
      "EPOCH 9\n",
      "EP: 9  loss train supervised: 1.1252117897277554  iou train supervised: 0.017357260286693318\n",
      "EP: 9  loss test: 1.4416117081354405  iou test: 0.02524334459144606\n",
      "EPOCH 10\n",
      "EP: 10  loss train supervised: 1.1326188608391645  iou train supervised: 0.01622058729581055\n",
      "EP: 10  loss test: 1.2745142724596221  iou test: 0.03670708064326301\n",
      "EPOCH 11\n",
      "EP: 11  loss train supervised: 1.1266038613776639  iou train supervised: 0.02086733345388357\n",
      "EP: 11  loss test: 1.2073649787491765  iou test: 0.040601422730883484\n",
      "EPOCH 12\n",
      "EP: 12  loss train supervised: 1.1182937045075578  iou train supervised: 0.021133158305328883\n",
      "EP: 12  loss test: 1.358735416038283  iou test: 0.024861970859313198\n",
      "EPOCH 13\n",
      "EP: 13  loss train supervised: 1.1020833300128918  iou train supervised: 0.02537538508927524\n",
      "EP: 13  loss test: 1.8395879511381017  iou test: 0.05429996118205132\n",
      "EPOCH 14\n",
      "EP: 14  loss train supervised: 1.0919458276196703  iou train supervised: 0.027076992704198877\n",
      "EP: 14  loss test: 1.6766835416185444  iou test: 0.04466528449258599\n",
      "EPOCH 15\n",
      "EP: 15  loss train supervised: 1.0816940334561753  iou train supervised: 0.032827056180148945\n",
      "EP: 15  loss test: 2.6390189420354777  iou test: 0.054242018090655604\n",
      "EPOCH 16\n",
      "EP: 16  loss train supervised: 1.0445536461458902  iou train supervised: 0.056113976562473744\n"
     ]
    }
   ],
   "source": [
    "for ep in range(n_epochs):\n",
    "    print(\"EPOCH\",ep)\n",
    "    for i,(x,mask) in enumerate(dataloader_train_unsupervised):\n",
    "          x = x.to(device)\n",
    "          mask = mask.to(device)\n",
    "          model.train()\n",
    "          angle = np.random.randint(0,angle_max)\n",
    "          loss = compute_transformations_batch(x,model,angle,reshape=False,criterion=criterion_unsupervised)\n",
    "          all_loss_train_unsup.append(loss.item())\n",
    "          optimizer.zero_grad()\n",
    "          loss.backward()\n",
    "          #all_iou_train_unsup.append(float(iou(pred.argmax(dim=1).detach(),mask.detach())))\n",
    "          optimizer.step()\n",
    "          lr_scheduler_unsupervised.step()\n",
    "\n",
    "\n",
    "    #m_iou = np.array(all_iou_train_unsup).mean()\n",
    "    m_loss = np.array(all_loss_train_unsup).mean()\n",
    "    loss_train_unsup.append(m_loss)\n",
    "    #iou_train_unsup.append(m_iou)\n",
    "    all_loss_train_unsup = []\n",
    "    all_iou_train_unsup = []\n",
    "    print(\"EP:\",ep,\" loss train unsupervised:\",m_loss)\n",
    "\n",
    "    for i,(x,mask) in enumerate(dataloader_val):\n",
    "          x = x.to(device)\n",
    "          mask = mask.to(device)\n",
    "          model.eval()\n",
    "          with torch.no_grad():\n",
    "            pred = model(x)\n",
    "            pred = pred[\"out\"]\n",
    "          loss = criterion_supervised(pred,mask)\n",
    "          all_loss_test.append(loss.item())\n",
    "          all_iou_test.append(float(iou(pred.argmax(dim=1).detach(),mask.detach())))\n",
    "\n",
    "    m_iou = np.array(all_iou_test).mean()\n",
    "    m_loss = np.array(all_loss_test).mean()\n",
    "    loss_test.append(m_loss)\n",
    "    iou_test.append(m_iou)\n",
    "    all_loss_test = []\n",
    "    all_iou_test = []\n",
    "    print(\"EP:\",ep,\" loss test:\",m_loss,\" iou test:\",m_iou)\n",
    "\n",
    "\n",
    "    torch.save(model,save)\n",
    "    \n",
    "for ep in range(n_epochs):\n",
    "    print(\"EPOCH\",ep)\n",
    "\n",
    "    for i,(x,mask) in enumerate(dataloader_train_supervised):\n",
    "          x = x.to(device)\n",
    "          mask = mask.to(device)\n",
    "          model.train()\n",
    "          pred = model(x)\n",
    "          pred = pred[\"out\"]\n",
    "          loss = criterion_supervised(pred,mask)\n",
    "          all_loss_train_sup.append(loss.item())\n",
    "          optimizer.zero_grad()\n",
    "          loss.backward()\n",
    "          all_iou_train_sup.append(float(iou(pred.argmax(dim=1).detach(),mask.detach())))\n",
    "          optimizer.step()\n",
    "          lr_scheduler_supervised.step()\n",
    "\n",
    "\n",
    "    m_iou = np.array(all_iou_train_sup).mean()\n",
    "    m_loss = np.array(all_loss_train_sup).mean()\n",
    "    loss_train_sup.append(m_loss)\n",
    "    iou_train_sup.append(m_iou)\n",
    "    all_loss_train_sup = []\n",
    "    all_iou_train_sup = []\n",
    "    print(\"EP:\",ep,\" loss train supervised:\",m_loss,\" iou train supervised:\",m_iou)\n",
    "\n",
    "    for i,(x,mask) in enumerate(dataloader_val):\n",
    "          x = x.to(device)\n",
    "          mask = mask.to(device)\n",
    "          model.eval()\n",
    "          with torch.no_grad():\n",
    "            pred = model(x)\n",
    "            pred = pred[\"out\"]\n",
    "          loss = criterion_supervised(pred,mask)\n",
    "          all_loss_test.append(loss.item())\n",
    "          all_iou_test.append(float(iou(pred.argmax(dim=1).detach(),mask.detach())))\n",
    "\n",
    "    m_iou = np.array(all_iou_test).mean()\n",
    "    m_loss = np.array(all_loss_test).mean()\n",
    "    loss_test.append(m_loss)\n",
    "    iou_test.append(m_iou)\n",
    "    all_loss_test = []\n",
    "    all_iou_test = []\n",
    "    print(\"EP:\",ep,\" loss test:\",m_loss,\" iou test:\",m_iou)\n",
    "\n",
    "\n",
    "    torch.save(model,save)"
   ]
  },
  {
   "cell_type": "markdown",
   "metadata": {},
   "source": [
    "## Fine tune in classification"
   ]
  },
  {
   "cell_type": "markdown",
   "metadata": {
    "colab_type": "text",
    "id": "PAUmF-R0B6U0"
   },
   "source": [
    "## Plot"
   ]
  },
  {
   "cell_type": "code",
   "execution_count": 19,
   "metadata": {
    "colab": {},
    "colab_type": "code",
    "id": "Ac8jahWTB7gq"
   },
   "outputs": [
    {
     "data": {
      "text/plain": [
       "Text(0, 0.5, 'Mean IOU')"
      ]
     },
     "execution_count": 19,
     "metadata": {},
     "output_type": "execute_result"
    },
    {
     "data": {
      "image/png": "[encoded data removed]",
      "text/plain": [
       "<Figure size 720x576 with 1 Axes>"
      ]
     },
     "metadata": {
      "needs_background": "light"
     },
     "output_type": "display_data"
    },
    {
     "data": {
      "image/png": "[encoded data removed]",
      "text/plain": [
       "<Figure size 720x576 with 1 Axes>"
      ]
     },
     "metadata": {
      "needs_background": "light"
     },
     "output_type": "display_data"
    },
    {
     "data": {
      "image/png": "[encoded data removed]",
      "text/plain": [
       "<Figure size 720x576 with 1 Axes>"
      ]
     },
     "metadata": {
      "needs_background": "light"
     },
     "output_type": "display_data"
    },
    {
     "data": {
      "image/png": "[encoded data removed]",
      "text/plain": [
       "<Figure size 720x576 with 1 Axes>"
      ]
     },
     "metadata": {
      "needs_background": "light"
     },
     "output_type": "display_data"
    },
    {
     "data": {
      "image/png": "[encoded data removed]",
      "text/plain": [
       "<Figure size 720x576 with 1 Axes>"
      ]
     },
     "metadata": {
      "needs_background": "light"
     },
     "output_type": "display_data"
    }
   ],
   "source": [
    "plt.figure(figsize=(10,8))\n",
    "plt.subplot(2,1,1)\n",
    "plt.title(\"DLV3 supervised loss train\")\n",
    "plt.plot(loss_train_sup)\n",
    "plt.xlabel(\"iterations\")\n",
    "plt.ylabel(\"Loss\")\n",
    "\n",
    "plt.figure(figsize=(10,8))\n",
    "plt.subplot(2,1,1)\n",
    "plt.title(\"DLV3 unsupervised loss train\")\n",
    "plt.plot(loss_train_unsup)\n",
    "plt.xlabel(\"iterations\")\n",
    "plt.ylabel(\"Loss\")\n",
    "\n",
    "\n",
    "plt.figure(figsize=(10,8))\n",
    "plt.subplot(2,1,1)\n",
    "plt.title(\"DLV3 semi supervised loss test\")\n",
    "plt.plot(loss_test)\n",
    "plt.xlabel(\"iterations\")\n",
    "plt.ylabel(\"Loss\")\n",
    "\n",
    "\n",
    "plt.figure(figsize=(10,8))\n",
    "plt.subplot(2,1,1)\n",
    "plt.title(\"DLV3 mean iou train supervised\")\n",
    "plt.plot(iou_train_sup)\n",
    "plt.xlabel(\"iterations\")\n",
    "plt.ylabel(\"Mean IOU\")\n",
    "\n",
    "\n",
    "plt.figure(figsize=(10,8))\n",
    "plt.subplot(2,1,1)\n",
    "plt.title(\"DLV3 semi supervised mean iou test\")\n",
    "plt.plot(iou_test)\n",
    "plt.xlabel(\"iterations\")\n",
    "plt.ylabel(\"Mean IOU\")"
   ]
  },
  {
   "cell_type": "code",
   "execution_count": null,
   "metadata": {
    "colab": {},
    "colab_type": "code",
    "id": "aBuisLmQLfsj"
   },
   "outputs": [],
   "source": [
    "x,mask = next(iter(dataloader_val))\n",
    "i = 1\n",
    "x = x.to(device)\n",
    "mask = mask.to(device)\n",
    "pred = model(x)\n",
    "pred = pred[\"out\"]\n",
    "fig = plt.figure()\n",
    "\n",
    "a = fig.add_subplot(1,2,1)\n",
    "plt.imshow(pred.max(dim=1)[1][i].cpu())\n",
    "\n",
    "a = fig.add_subplot(1,2,2)\n",
    "plt.imshow(mask.cpu().detach().numpy()[i])\n",
    "\n",
    "plt.show()\n",
    "\n",
    "class_pred = []\n",
    "class_mask = []\n",
    "\n",
    "for p in pred.argmax(dim=1)[i].unique():\n",
    "  class_pred.append(VOC_CLASSES[int(p)])\n",
    "for m in mask[i].unique():\n",
    "  class_mask.append(VOC_CLASSES[int(m)])\n",
    "\n",
    "print(\"Classe prédite : \",class_pred)\n",
    "print(\"Classe réelle : \",class_mask)\n",
    "print(scores(pred.argmax(dim=1)[i],mask[i])[\"Pixel Accuracy\"])\n",
    "print(\"IOU sur ce masque :\",float(iou(pred.argmax(dim=1)[i].unsqueeze(0),mask[i].unsqueeze(0))))\n"
   ]
  }
 ],
 "metadata": {
  "accelerator": "GPU",
  "colab": {
   "collapsed_sections": [],
   "name": "FCN_seg2012.ipynb",
   "provenance": []
  },
  "kernelspec": {
   "display_name": "Python 3",
   "language": "python",
   "name": "python3"
  },
  "language_info": {
   "codemirror_mode": {
    "name": "ipython",
    "version": 3
   },
   "file_extension": ".py",
   "mimetype": "text/x-python",
   "name": "python",
   "nbconvert_exporter": "python",
   "pygments_lexer": "ipython3",
   "version": "3.6.9"
  }
 },
 "nbformat": 4,
 "nbformat_minor": 1
}
